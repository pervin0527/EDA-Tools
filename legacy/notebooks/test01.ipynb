{
 "cells": [
  {
   "cell_type": "code",
   "execution_count": 1,
   "metadata": {},
   "outputs": [],
   "source": [
    "import numpy as np\n",
    "import pandas as pd\n",
    "import seaborn as sns\n",
    "import matplotlib.pyplot as plt\n",
    "\n",
    "from scipy.stats import norm"
   ]
  },
  {
   "cell_type": "code",
   "execution_count": 2,
   "metadata": {},
   "outputs": [],
   "source": [
    "# 한글 폰트 설정\n",
    "plt.rc('font', family='NanumGothic')  # 나눔고딕 폰트 사용\n",
    "plt.rcParams['axes.unicode_minus'] = False  # 마이너스 기호 깨짐 방지"
   ]
  },
  {
   "cell_type": "code",
   "execution_count": 3,
   "metadata": {},
   "outputs": [],
   "source": [
    "df = pd.read_excel(\"./data/SR_ROW.xlsx\", sheet_name=\"308명\")"
   ]
  },
  {
   "cell_type": "code",
   "execution_count": null,
   "metadata": {},
   "outputs": [],
   "source": [
    "df.head()"
   ]
  },
  {
   "cell_type": "code",
   "execution_count": null,
   "metadata": {},
   "outputs": [],
   "source": [
    "df.columns"
   ]
  },
  {
   "cell_type": "code",
   "execution_count": null,
   "metadata": {},
   "outputs": [],
   "source": [
    "df['연령'].isnull()"
   ]
  },
  {
   "cell_type": "code",
   "execution_count": null,
   "metadata": {},
   "outputs": [],
   "source": [
    "df['연령'].value_counts()"
   ]
  },
  {
   "cell_type": "code",
   "execution_count": null,
   "metadata": {},
   "outputs": [],
   "source": [
    "work_columns = [col for col in df.columns if \"(WORK_\" in col]\n",
    "print(len(work_columns))\n",
    "print(work_columns)"
   ]
  },
  {
   "cell_type": "code",
   "execution_count": null,
   "metadata": {},
   "outputs": [],
   "source": [
    "df['연령대'] = df['연령'].apply(lambda x: f\"{int(x//10*10)}대\" if pd.notnull(x) else \"알수없음\")\n",
    "grouped_stats = df.groupby('연령대')[work_columns].agg(['mean', 'std'])\n",
    "print(grouped_stats)"
   ]
  },
  {
   "cell_type": "code",
   "execution_count": null,
   "metadata": {},
   "outputs": [],
   "source": [
    "first_work_col = work_columns[0]\n",
    "\n",
    "plt.figure(figsize=(10, 6))\n",
    "for age_group in df['연령대'].unique():\n",
    "    sns.kdeplot(data=df[df['연령대'] == age_group][first_work_col], label=f\"{age_group}\")\n",
    "\n",
    "plt.title(f\"{first_work_col} 연령대별 분포(KDE)\")\n",
    "plt.xlabel(first_work_col)\n",
    "plt.ylabel(\"Density\")\n",
    "plt.legend()\n",
    "plt.show()"
   ]
  },
  {
   "cell_type": "code",
   "execution_count": null,
   "metadata": {},
   "outputs": [],
   "source": [
    "plt.figure(figsize=(10, 6))\n",
    "x_vals = np.linspace(df[first_work_col].min(), df[first_work_col].max(), 100)\n",
    "for age_group in df['연령대'].unique():\n",
    "    mean_val = grouped_stats.loc[age_group, (first_work_col, 'mean')]\n",
    "    std_val = grouped_stats.loc[age_group, (first_work_col, 'std')]\n",
    "    if pd.notna(mean_val) and pd.notna(std_val) and std_val != 0:\n",
    "        y_vals = norm.pdf(x_vals, mean_val, std_val)\n",
    "        plt.plot(x_vals, y_vals, label=f\"{age_group} (Mean={mean_val:.2f}, Std={std_val:.2f})\")\n",
    "\n",
    "plt.title(f\"{first_work_col} 연령대별 정규분포 가정 PDF\")\n",
    "plt.xlabel(first_work_col)\n",
    "plt.ylabel(\"Density\")\n",
    "plt.legend()\n",
    "plt.show()"
   ]
  },
  {
   "cell_type": "code",
   "execution_count": null,
   "metadata": {},
   "outputs": [],
   "source": []
  },
  {
   "cell_type": "code",
   "execution_count": null,
   "metadata": {},
   "outputs": [],
   "source": [
    "df['연령대'] = df['연령'].apply(lambda x: f\"{int(x//10*10)}대\" if pd.notnull(x) else \"알수없음\")\n",
    "\n",
    "count_table = pd.crosstab(df['연령대'], df['본사/현업'])\n",
    "ratio_table = count_table.div(count_table.sum(axis=1), axis=0)\n",
    "\n",
    "plt.figure(figsize=(10, 6))\n",
    "ratio_table.plot(kind='bar', stacked=True)\n",
    "plt.title(\"연령대별 본사/현업 비율\")\n",
    "plt.xlabel(\"연령대\")\n",
    "plt.ylabel(\"비율\")\n",
    "plt.legend(title=\"본사/현업\", bbox_to_anchor=(1.05, 1), loc='upper left')\n",
    "plt.tight_layout()\n",
    "plt.show()"
   ]
  },
  {
   "cell_type": "code",
   "execution_count": null,
   "metadata": {},
   "outputs": [],
   "source": []
  },
  {
   "cell_type": "code",
   "execution_count": null,
   "metadata": {},
   "outputs": [],
   "source": [
    "count_table = df['본사/현업'].value_counts()\n",
    "\n",
    "plt.figure(figsize=(6, 6))\n",
    "count_table.plot(kind='pie', autopct='%.1f%%', startangle=90)\n",
    "plt.title(\"전체 본사/현업 비율\")\n",
    "plt.ylabel(\"\")\n",
    "plt.show()"
   ]
  },
  {
   "cell_type": "code",
   "execution_count": null,
   "metadata": {},
   "outputs": [],
   "source": [
    "# Filter the 근속년수 column\n",
    "tenure_data = df['근속년수']\n",
    "\n",
    "# Plot the distribution of 근속년수\n",
    "plt.figure(figsize=(10, 6))\n",
    "plt.hist(tenure_data, bins=20, alpha=0.75, edgecolor='k')\n",
    "plt.title('근속년수 분포', fontsize=14)\n",
    "plt.xlabel('근속년수 (년)', fontsize=12)\n",
    "plt.ylabel('빈도', fontsize=12)\n",
    "plt.grid(axis='y', linestyle='--', alpha=0.7)\n",
    "plt.show()"
   ]
  }
 ],
 "metadata": {
  "kernelspec": {
   "display_name": "Python 3",
   "language": "python",
   "name": "python3"
  },
  "language_info": {
   "codemirror_mode": {
    "name": "ipython",
    "version": 3
   },
   "file_extension": ".py",
   "mimetype": "text/x-python",
   "name": "python",
   "nbconvert_exporter": "python",
   "pygments_lexer": "ipython3",
   "version": "3.8.10"
  }
 },
 "nbformat": 4,
 "nbformat_minor": 2
}
