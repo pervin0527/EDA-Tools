{
 "cells": [
  {
   "cell_type": "code",
   "execution_count": 1,
   "metadata": {},
   "outputs": [],
   "source": [
    "import numpy as np\n",
    "import pandas as pd\n",
    "import seaborn as sns\n",
    "import matplotlib.pyplot as plt\n",
    "\n",
    "from scipy.stats import norm"
   ]
  },
  {
   "cell_type": "code",
   "execution_count": 2,
   "metadata": {},
   "outputs": [],
   "source": [
    "# 한글 폰트 설정\n",
    "plt.rc('font', family='NanumGothic')  # 나눔고딕 폰트 사용\n",
    "plt.rcParams['axes.unicode_minus'] = False  # 마이너스 기호 깨짐 방지"
   ]
  },
  {
   "cell_type": "code",
   "execution_count": 4,
   "metadata": {},
   "outputs": [],
   "source": [
    "df = pd.read_excel(\"../data/SR_질문_목록_데이터_병합결과.xlsx\")"
   ]
  },
  {
   "cell_type": "code",
   "execution_count": null,
   "metadata": {},
   "outputs": [],
   "source": [
    "df.head()"
   ]
  },
  {
   "cell_type": "code",
   "execution_count": null,
   "metadata": {},
   "outputs": [],
   "source": [
    "df.columns"
   ]
  },
  {
   "cell_type": "code",
   "execution_count": null,
   "metadata": {},
   "outputs": [],
   "source": [
    "## 설문 항목\n",
    "\n",
    "question = [\n",
    "    '우리 조직은 정기적, 비정기적으로 경영진 및 상급자들과 원활한 소통이 이루어지고 있다.',\n",
    "    '우리 조직은 직급과 관계없이 자유롭게 의견을 제시하고 토의할 수 있는 분위기이다.',\n",
    "    '우리 조직의 리더들은 구성원들을 인정하고 격려하며 동기부여한다.',\n",
    "    '우리 회사의 구성원들은 서로 상호간 믿음과 친밀도가 높은 편이다.',\n",
    "    '우리 조직은 목표 달성에 필요한 적임자를 선정하고 승진시킨다.',\n",
    "    '우리 조직의 리더들은 개인의 이해에 치우치지 않고 공정한 업무추진을 하고 있다.',\n",
    "    '우리 회사의 경영진은 시장에서의 변화(기술변화, 경쟁사의 움직임)에 빠르게 반응하기 위해 많은 노력을 하고 있다.',\n",
    "    '우리 회사는 변화와 혁신에 대한 공감대와 대응자세를 갖추고 있다.',\n",
    "    '우리 회사 조직문화의 단점이라고 생각하는 것을 모두 선택해주세요.',\n",
    "    '2024년 시행한 조직문화 프로그램 중 아는 것을 모두 선택해주세요.'\n",
    "]\n",
    "\n",
    "# questions = [\n",
    "#     '우리 조직은 정기적, 비정기적으로 경영진 및 상급자들과 원활한 소통이 이루어지고 있다.',\n",
    "#     '우리 조직은 직급과 관계없이 자유롭게 의견을 제시하고 토의할 수 있는 분위기이다.',\n",
    "#     '우리 조직의 리더들은 구성원들을 인정하고 격려하며 동기부여한다.',\n",
    "#     '우리 회사의 구성원들은 서로 상호간 믿음과 친밀도가 높은 편이다.',\n",
    "#     '우리 조직은 목표 달성에 필요한 적임자를 선정하고 승진시킨다.',\n",
    "#     '우리 조직의 리더들은 개인의 이해에 치우치지 않고 공정한 업무추진을 하고 있다.',\n",
    "#     '우리 회사의 경영진은 시장에서의 변화(기술변화, 경쟁사의 움직임)에 빠르게 반응하기 위해 많은 노력을 하고 있다.',\n",
    "#     '우리 회사는 변화와 혁신에 대한 공감대와 대응자세를 갖추고 있다.'\n",
    "# ]"
   ]
  },
  {
   "cell_type": "code",
   "execution_count": null,
   "metadata": {},
   "outputs": [],
   "source": [
    "## 조직문화의 단점(culture_problems)\n",
    "df['우리 회사 조직문화의 단점이라고 생각하는 것을 모두 선택해주세요.'].value_counts()"
   ]
  },
  {
   "cell_type": "code",
   "execution_count": null,
   "metadata": {},
   "outputs": [],
   "source": [
    "##  조직문화 프로그램(curture_programs)\n",
    "df['2024년 시행한 조직문화 프로그램 중 아는 것을 모두 선택해주세요.'].value_counts()"
   ]
  },
  {
   "cell_type": "code",
   "execution_count": null,
   "metadata": {},
   "outputs": [],
   "source": [
    "df['우리 회사의 조직문화 하면 떠오르는 단어 1개(8글자 이내)를 적어 주시기 바랍니다.'].value_counts()"
   ]
  },
  {
   "cell_type": "code",
   "execution_count": null,
   "metadata": {},
   "outputs": [],
   "source": [
    "## 카테고리\n",
    "categories = ['인사하위영역', '본사/현업', '사원하위그룹', '정규직/비정규직', '권한', '연령', '성별', '직위', '직급']"
   ]
  }
 ],
 "metadata": {
  "kernelspec": {
   "display_name": "Python 3",
   "language": "python",
   "name": "python3"
  },
  "language_info": {
   "codemirror_mode": {
    "name": "ipython",
    "version": 3
   },
   "file_extension": ".py",
   "mimetype": "text/x-python",
   "name": "python",
   "nbconvert_exporter": "python",
   "pygments_lexer": "ipython3",
   "version": "3.8.10"
  }
 },
 "nbformat": 4,
 "nbformat_minor": 2
}
