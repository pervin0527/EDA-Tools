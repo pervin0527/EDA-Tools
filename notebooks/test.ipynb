{
 "cells": [
  {
   "cell_type": "code",
   "execution_count": 1,
   "metadata": {},
   "outputs": [],
   "source": [
    "import numpy as np\n",
    "import pandas as pd\n",
    "import seaborn as sns\n",
    "import matplotlib.pyplot as plt\n",
    "import matplotlib.font_manager as fm"
   ]
  },
  {
   "cell_type": "code",
   "execution_count": 2,
   "metadata": {},
   "outputs": [],
   "source": [
    "save_path = \"./plots\""
   ]
  },
  {
   "cell_type": "code",
   "execution_count": 3,
   "metadata": {},
   "outputs": [],
   "source": [
    "# 한글 폰트 설정\n",
    "font_path = \"/usr/share/fonts/truetype/nanum/NanumGothic.ttf\"  # 시스템에서 설치된 폰트 경로 확인\n",
    "font_prop = fm.FontProperties(fname=font_path)  # FontProperties 생성\n",
    "\n",
    "# matplotlib에 폰트 설정\n",
    "plt.rcParams['font.family'] = font_prop.get_name()\n",
    "plt.rcParams['axes.unicode_minus'] = False  # 마이너스 기호 깨짐 방지"
   ]
  },
  {
   "cell_type": "markdown",
   "metadata": {},
   "source": [
    "# 5.구성원 컬처핏 분석(37페이지부터)"
   ]
  },
  {
   "cell_type": "markdown",
   "metadata": {},
   "source": [
    "## 가.온라인 설문 진단 통계"
   ]
  },
  {
   "cell_type": "markdown",
   "metadata": {},
   "source": [
    "### 1.응답률"
   ]
  },
  {
   "cell_type": "code",
   "execution_count": 4,
   "metadata": {},
   "outputs": [],
   "source": [
    "## 파이 차트\n",
    "data = {\n",
    "    \"인사하위영역\": [\"본사\", \"센터\", \"역\"],\n",
    "    \"응답율\": [58.3, 32.6, 51.1]\n",
    "}\n",
    "\n",
    "labels = ['', '']\n",
    "sizes = [133 + 127 + 47, 95 + 263 + 45]\n",
    "colors = [\"#39C039\", \"#868e96\"]"
   ]
  },
  {
   "cell_type": "code",
   "execution_count": null,
   "metadata": {},
   "outputs": [],
   "source": [
    "plt.figure(figsize=(8, 8))\n",
    "\n",
    "text_and_label_size = 14\n",
    "new_font_prop = font_prop.copy()\n",
    "new_font_prop.set_size(text_and_label_size)\n",
    "\n",
    "wedges, texts, autotexts = plt.pie(\n",
    "    sizes, \n",
    "    labels=labels, \n",
    "    colors=colors, \n",
    "    autopct=\"%.1f%%\", \n",
    "    startangle=90, \n",
    "    wedgeprops={\"width\": 0.4}, \n",
    "    textprops={\"fontproperties\": new_font_prop}  # 폰트 크기 적용 완료\n",
    ")\n",
    "\n",
    "# 퍼센트 텍스트 위치를 바깥쪽으로 조정\n",
    "for autotext in autotexts:\n",
    "    x, y = autotext.get_position()\n",
    "    # autotext.set_color(\"white\")\n",
    "    autotext.set_fontweight(\"bold\")\n",
    "    autotext.set_position((x * 1.3, y * 1.3))  # 바깥쪽으로 이동\n",
    "\n",
    "# 범례 폰트 크기 설정\n",
    "legend_font_prop = font_prop.copy()\n",
    "legend_font_prop.set_size(text_and_label_size)\n",
    "\n",
    "# 범례 추가\n",
    "plt.legend(wedges, ['참여자', '미참여자'], prop=legend_font_prop, loc=\"upper right\")\n",
    "\n",
    "# 제목 폰트 크기 설정\n",
    "title_font_prop = font_prop.copy()\n",
    "title_font_prop.set_size(20)\n",
    "\n",
    "# 그래프 제목 설정\n",
    "plt.title(\"온라인 설문 참여 현황\", fontproperties=title_font_prop, fontweight=\"bold\")\n",
    "\n",
    "# 그래프 저장 및 출력\n",
    "plt.tight_layout()\n",
    "plt.savefig(f\"{save_path}/00-온라인 설문 참여 현황.png\", dpi=300, bbox_inches=\"tight\")\n",
    "plt.show()\n"
   ]
  },
  {
   "cell_type": "markdown",
   "metadata": {},
   "source": [
    "### 2. 본사/현업 참여율"
   ]
  },
  {
   "cell_type": "code",
   "execution_count": 6,
   "metadata": {},
   "outputs": [],
   "source": [
    "# 데이터\n",
    "labels = ['', '']\n",
    "sizes = [57.9, 36.31]  # 응답률\n",
    "colors = [\"#39C039\", \"#4971FF\"]"
   ]
  },
  {
   "cell_type": "code",
   "execution_count": null,
   "metadata": {},
   "outputs": [],
   "source": [
    "plt.figure(figsize=(8, 8))\n",
    "\n",
    "text_and_label_size = 14\n",
    "new_font_prop = font_prop.copy()\n",
    "new_font_prop.set_size(text_and_label_size)\n",
    "\n",
    "wedges, texts, autotexts = plt.pie(\n",
    "    sizes, \n",
    "    labels=labels, \n",
    "    colors=colors, \n",
    "    autopct=\"%.1f%%\", \n",
    "    startangle=90, \n",
    "    wedgeprops={\"width\": 0.4}, \n",
    "    textprops={\"fontproperties\": new_font_prop}  # 폰트 크기 적용 완료\n",
    ")\n",
    "\n",
    "# 퍼센트 텍스트 위치를 바깥쪽으로 조정\n",
    "for autotext in autotexts:\n",
    "    x, y = autotext.get_position()\n",
    "    autotext.set_position((x * 1.3, y * 1.3))  # 바깥쪽으로 이동\n",
    "\n",
    "# 범례 폰트 크기 설정\n",
    "legend_font_prop = font_prop.copy()\n",
    "legend_font_prop.set_size(text_and_label_size)\n",
    "\n",
    "# 범례 추가\n",
    "plt.legend(wedges, ['본사', '현업'], prop=legend_font_prop, loc=\"upper right\")\n",
    "\n",
    "# 제목 폰트 크기 설정\n",
    "title_font_prop = font_prop.copy()\n",
    "title_font_prop.set_size(20)\n",
    "\n",
    "# 그래프 제목 설정\n",
    "plt.title(\"본사, 현업 참여율 비교\", fontproperties=title_font_prop, fontweight=\"bold\")\n",
    "\n",
    "# 그래프 저장 및 출력\n",
    "plt.tight_layout()\n",
    "plt.savefig(f\"{save_path}/01-본사, 현업 참여율 비교.png\", dpi=300, bbox_inches=\"tight\")\n",
    "plt.show()"
   ]
  },
  {
   "cell_type": "markdown",
   "metadata": {},
   "source": [
    "### 3.본사 부서별 참여인원, 참여율"
   ]
  },
  {
   "cell_type": "code",
   "execution_count": 8,
   "metadata": {},
   "outputs": [],
   "source": [
    "def plot_data(data, title):\n",
    "    departments = data['부서명'].tolist()\n",
    "    num_people = data['인원'].tolist()\n",
    "    participation_rate = data['참여율'].tolist()  # 참여율은 이미 소수로 처리됨\n",
    "\n",
    "    x = np.arange(len(departments))\n",
    "\n",
    "    text_and_label_size = 14\n",
    "    title_font_size = 20\n",
    "\n",
    "    # 그래프 생성\n",
    "    fig, ax1 = plt.subplots(figsize=(15, 6))\n",
    "\n",
    "    # 막대 그래프 (인원)\n",
    "    bar_width = 0.6\n",
    "    ax1.bar(x, num_people, color='#1246FF', alpha=0.7, label=\"인원\", width=bar_width)\n",
    "    ax1.set_xlabel(\"부서명\", fontsize=text_and_label_size)\n",
    "    ax1.set_ylabel(\"인원\", color='#1246FF', fontsize=text_and_label_size)\n",
    "    ax1.tick_params(axis='y', labelcolor='#1246FF', labelsize=text_and_label_size)\n",
    "    ax1.set_xticks(x)\n",
    "    ax1.set_xticklabels(departments, rotation=90, ha=\"right\", fontsize=text_and_label_size)\n",
    "\n",
    "    # 선 그래프 (참여율)\n",
    "    ax2 = ax1.twinx()\n",
    "    ax2.plot(x, participation_rate, color='#0AA00A', marker='o', label=\"참여율\")\n",
    "    ax2.set_ylabel(\"참여율\", color='#0AA00A', fontsize=text_and_label_size)\n",
    "    ax2.tick_params(axis='y', labelcolor='#0AA00A', labelsize=text_and_label_size)\n",
    "    ax2.set_ylim(0, 1)  # 참여율(%) 범위 조정\n",
    "\n",
    "    # 범례 추가\n",
    "    fig.legend(loc=\"upper right\", bbox_to_anchor=(1.1, 1), fontsize=text_and_label_size)\n",
    "\n",
    "    # 제목 설정\n",
    "    plt.title(title, fontsize=title_font_size, pad=20)\n",
    "\n",
    "    # 그래프 출력\n",
    "    plt.tight_layout()\n",
    "    plt.savefig(f\"{save_path}/02-{title}.png\", dpi=300, bbox_inches=\"tight\")\n",
    "    plt.show()"
   ]
  },
  {
   "cell_type": "code",
   "execution_count": null,
   "metadata": {},
   "outputs": [],
   "source": [
    "data = pd.read_csv(\"../data/본사_현업_참여.csv\")\n",
    "data['참여율'] = data['참여율'].str.replace('%', '').astype(float) / 100\n",
    "\n",
    "headquarters_data = data[data['구분'] == '본사']\n",
    "field_data = data[data['구분'] == '현업']\n",
    "\n",
    "# 본사 데이터 시각화\n",
    "plot_data(headquarters_data, \"본사 부서별 참여인원, 참여율\")\n",
    "\n",
    "# 현업 데이터 시각화\n",
    "plot_data(field_data, \"현업 부서별 참여인원, 참여율\")"
   ]
  },
  {
   "cell_type": "markdown",
   "metadata": {},
   "source": [
    "### 4.연령대별 응답률"
   ]
  },
  {
   "cell_type": "code",
   "execution_count": null,
   "metadata": {},
   "outputs": [],
   "source": [
    "age_data_path = '../data/연령대별 응답률.csv'\n",
    "age_data = pd.read_csv(age_data_path)\n",
    "\n",
    "age_data.head()"
   ]
  },
  {
   "cell_type": "code",
   "execution_count": null,
   "metadata": {},
   "outputs": [],
   "source": [
    "from matplotlib.ticker import PercentFormatter\n",
    "\n",
    "# 응답율을 소수로 변환\n",
    "age_data['응답율'] = age_data['응답율'].str.replace('%', '').astype(float) / 100\n",
    "\n",
    "# 연령대 및 응답율 추출\n",
    "ages = age_data['연령 별 분류'].tolist()\n",
    "response_rates = age_data['응답율'].tolist()\n",
    "\n",
    "# 폰트 크기 설정\n",
    "text_and_label_size = 14\n",
    "title_font_size = 20\n",
    "\n",
    "# 그래프 생성\n",
    "fig, ax = plt.subplots(figsize=(8, 8))\n",
    "\n",
    "x = np.arange(len(ages))\n",
    "bar_width = 0.4\n",
    "\n",
    "# 막대 그래프\n",
    "ax.bar(x, response_rates, color='#1246FF', alpha=0.8, width=bar_width)\n",
    "\n",
    "# 축 및 제목 설정\n",
    "ax.set_xlabel(\"연령대\", fontsize=text_and_label_size)\n",
    "ax.set_ylabel(\"응답률\", fontsize=text_and_label_size)\n",
    "ax.set_xticks(x)\n",
    "ax.set_xticklabels(ages, fontsize=text_and_label_size)\n",
    "ax.tick_params(axis='y', labelsize=text_and_label_size)\n",
    "ax.set_title(\"연령대별 응답률\", fontsize=title_font_size, pad=15)\n",
    "\n",
    "# y축 포맷을 0% ~ 100%로 설정\n",
    "ax.yaxis.set_major_formatter(PercentFormatter(1))\n",
    "\n",
    "# y축 범위 설정\n",
    "ax.set_ylim(0, 1)  # 응답율 범위 (0% ~ 100%)\n",
    "\n",
    "# 그래프 출력\n",
    "plt.tight_layout()\n",
    "plt.savefig(f\"{save_path}/03-연령대별 응답률.png\", dpi=300, bbox_inches=\"tight\")\n",
    "plt.show()"
   ]
  },
  {
   "cell_type": "markdown",
   "metadata": {},
   "source": [
    "### 5.컬처핏 통계"
   ]
  },
  {
   "cell_type": "markdown",
   "metadata": {},
   "source": [
    "1.신뢰도"
   ]
  },
  {
   "cell_type": "code",
   "execution_count": 12,
   "metadata": {},
   "outputs": [],
   "source": [
    "# 데이터 정의\n",
    "labels = ['', '']\n",
    "sizes = [93, 7]  # 퍼센트 값\n",
    "colors = [\"#39C039\", \"#868e96\"]\n",
    "\n",
    "# 폰트 크기 설정\n",
    "title_font_size = 20\n",
    "text_and_label_size = 14"
   ]
  },
  {
   "cell_type": "code",
   "execution_count": null,
   "metadata": {},
   "outputs": [],
   "source": [
    "# 파이 차트 생성\n",
    "fig, ax = plt.subplots(figsize=(8, 8))\n",
    "wedges, texts, autotexts = ax.pie(\n",
    "    sizes, \n",
    "    labels=labels, \n",
    "    colors=colors, \n",
    "    autopct='%1.0f%%', \n",
    "    startangle=90, \n",
    "    textprops={'fontsize': text_and_label_size}\n",
    ")\n",
    "\n",
    "# 제목 설정\n",
    "plt.title(\"신뢰도\", fontsize=title_font_size)\n",
    "\n",
    "# 범례 설정\n",
    "plt.legend(wedges, ['적합', '부적합'], fontsize=text_and_label_size, loc=\"upper right\")\n",
    "\n",
    "# 그래프 출력\n",
    "plt.tight_layout()\n",
    "plt.savefig(f\"{save_path}/04-신뢰도.png\", dpi=300, bbox_inches=\"tight\")\n",
    "plt.show()\n"
   ]
  },
  {
   "cell_type": "markdown",
   "metadata": {},
   "source": [
    "2.컬처핏"
   ]
  },
  {
   "cell_type": "code",
   "execution_count": 14,
   "metadata": {},
   "outputs": [],
   "source": [
    "# 데이터 정의\n",
    "labels = []\n",
    "sizes = [6, 59, 36]  # 퍼센트 값\n",
    "colors = [\"#39C039\", \"#4971FF\", \"#868e96\"]\n",
    "\n",
    "# 폰트 크기 설정\n",
    "title_font_size = 20\n",
    "text_and_label_size = 14"
   ]
  },
  {
   "cell_type": "code",
   "execution_count": null,
   "metadata": {},
   "outputs": [],
   "source": [
    "# 파이 차트 생성\n",
    "fig, ax = plt.subplots(figsize=(8, 8))\n",
    "wedges, texts, autotexts = ax.pie(\n",
    "    sizes, \n",
    "    labels=labels, \n",
    "    colors=colors, \n",
    "    autopct='%1.0f%%', \n",
    "    startangle=90, \n",
    "    textprops={'fontsize': text_and_label_size}\n",
    ")\n",
    "\n",
    "# 제목 설정\n",
    "plt.title(\"컬처핏\", fontsize=title_font_size)\n",
    "\n",
    "# 범례 설정\n",
    "plt.legend(wedges, ['우수', '보통', '검토필요'], fontsize=text_and_label_size, loc=\"upper right\")\n",
    "\n",
    "# 그래프 출력\n",
    "plt.tight_layout()\n",
    "plt.savefig(f\"./{save_path}/05-컬처핏.png\", dpi=300, bbox_inches=\"tight\")\n",
    "plt.show()\n"
   ]
  },
  {
   "cell_type": "markdown",
   "metadata": {},
   "source": [
    "3.비전핏"
   ]
  },
  {
   "cell_type": "code",
   "execution_count": 16,
   "metadata": {},
   "outputs": [],
   "source": [
    "# 데이터 정의\n",
    "labels = ['우수', '보통', '검토필요']\n",
    "sizes = [0, 9, 91]  # 퍼센트 값\n",
    "colors = [\"#39C039\", \"#4971FF\", \"#868e96\"]\n",
    "\n",
    "# 폰트 크기 설정\n",
    "title_font_size = 20\n",
    "text_and_label_size = 14"
   ]
  },
  {
   "cell_type": "code",
   "execution_count": 17,
   "metadata": {},
   "outputs": [],
   "source": [
    "labels = labels[1:]\n",
    "sizes = sizes[1:]\n",
    "colors = colors[1:]\n",
    "\n",
    "leg = ['보통', '검토필요']"
   ]
  },
  {
   "cell_type": "code",
   "execution_count": null,
   "metadata": {},
   "outputs": [],
   "source": [
    "# 파이 차트 생성\n",
    "fig, ax = plt.subplots(figsize=(8, 8))\n",
    "wedges, texts, autotexts = ax.pie(\n",
    "    sizes, \n",
    "    labels=labels, \n",
    "    colors=colors, \n",
    "    autopct='%1.0f%%', \n",
    "    startangle=90, \n",
    "    textprops={'fontsize': text_and_label_size}\n",
    ")\n",
    "\n",
    "# 제목 설정\n",
    "plt.title(\"비전핏\", fontsize=title_font_size)\n",
    "\n",
    "# 범례 설정\n",
    "plt.legend(wedges, labels, fontsize=text_and_label_size, loc=\"upper right\")\n",
    "\n",
    "# 그래프 출력\n",
    "plt.tight_layout()\n",
    "plt.savefig(f\"./{save_path}/06-비전핏.png\", dpi=300, bbox_inches=\"tight\")\n",
    "plt.show()"
   ]
  },
  {
   "cell_type": "markdown",
   "metadata": {},
   "source": [
    "4.구성원 인재"
   ]
  },
  {
   "cell_type": "code",
   "execution_count": 19,
   "metadata": {},
   "outputs": [],
   "source": [
    "# 데이터 정의\n",
    "labels = ['우수', '보통', '검토필요']\n",
    "sizes = [22, 78, 0]  # 퍼센트 값\n",
    "colors = [\"#39C039\", \"#4971FF\", \"#868e96\"]\n",
    "\n",
    "# 폰트 크기 설정\n",
    "title_font_size = 20\n",
    "text_and_label_size = 14"
   ]
  },
  {
   "cell_type": "code",
   "execution_count": 20,
   "metadata": {},
   "outputs": [],
   "source": [
    "labels.pop()\n",
    "sizes.pop()\n",
    "colors.pop()\n",
    "\n",
    "leg = labels"
   ]
  },
  {
   "cell_type": "code",
   "execution_count": null,
   "metadata": {},
   "outputs": [],
   "source": [
    "# 파이 차트 생성\n",
    "fig, ax = plt.subplots(figsize=(8, 8))\n",
    "wedges, texts, autotexts = ax.pie(\n",
    "    sizes, \n",
    "    labels=labels, \n",
    "    colors=colors, \n",
    "    autopct='%1.0f%%', \n",
    "    startangle=90, \n",
    "    textprops={'fontsize': text_and_label_size}\n",
    ")\n",
    "\n",
    "# 제목 설정\n",
    "plt.title(\"구성원 인재 fit\", fontsize=title_font_size)\n",
    "\n",
    "# 범례 설정\n",
    "plt.legend(wedges, labels, fontsize=text_and_label_size, loc=\"upper right\")\n",
    "\n",
    "# 그래프 출력\n",
    "plt.tight_layout()\n",
    "plt.savefig(f\"./{save_path}/07-구성원 인재 fit.png\", dpi=300, bbox_inches=\"tight\")\n",
    "plt.show()"
   ]
  },
  {
   "cell_type": "code",
   "execution_count": null,
   "metadata": {},
   "outputs": [],
   "source": []
  }
 ],
 "metadata": {
  "kernelspec": {
   "display_name": "Python 3",
   "language": "python",
   "name": "python3"
  },
  "language_info": {
   "codemirror_mode": {
    "name": "ipython",
    "version": 3
   },
   "file_extension": ".py",
   "mimetype": "text/x-python",
   "name": "python",
   "nbconvert_exporter": "python",
   "pygments_lexer": "ipython3",
   "version": "3.8.10"
  }
 },
 "nbformat": 4,
 "nbformat_minor": 2
}
